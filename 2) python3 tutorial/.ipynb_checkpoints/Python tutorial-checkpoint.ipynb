{
 "cells": [
  {
   "cell_type": "markdown",
   "metadata": {},
   "source": [
    "# Python3 Tutorial"
   ]
  },
  {
   "cell_type": "markdown",
   "metadata": {},
   "source": [
    "## Resource \n",
    "\n",
    "<p>BOOK: Python Crash Course, 2nd Edition: A Hands-On, Project-Based Introduction to Programming (2019)\n",
    "<p>website: https://realpython.com/</p> \n",
    "<p>website: https://www.programiz.com/python-programming </p>\n",
    "<img src=\"510-dE3N1PL._SX376_BO1,204,203,200_.jpg\" width=\"200\" align=\"left\"/>\n",
    "<img src=\"Screenshot from 2020-03-19 12-54-03.png\" width=\"500\", align=\"middel\">\n",
    "\n"
   ]
  },
  {
   "cell_type": "markdown",
   "metadata": {},
   "source": [
    "## Variables and  Data Structures\n",
    "\n",
    "#### Sequence Type                                                           \n",
    "    1. string              \n",
    "    2. List                \n",
    "    3. Tuple\n",
    "    4. Set\n",
    "\n",
    "#### Number\n",
    "    1. Integer\n",
    "    2. Float\n",
    "    3. Complex\n",
    "    \n",
    "#### Boolean \n",
    "    1. True\n",
    "    2. False\n",
    "\n",
    "#### Dictionary (key, value)\n",
    "\n",
    "\n",
    "    \n"
   ]
  },
  {
   "cell_type": "markdown",
   "metadata": {},
   "source": [
    "# string"
   ]
  },
  {
   "cell_type": "code",
   "execution_count": 1,
   "metadata": {},
   "outputs": [
    {
     "name": "stdout",
     "output_type": "stream",
     "text": [
      "Hello Python world!\n"
     ]
    }
   ],
   "source": [
    "message = \"Hello Python world!\" \n",
    "print(message)"
   ]
  },
  {
   "cell_type": "code",
   "execution_count": 2,
   "metadata": {},
   "outputs": [
    {
     "ename": "NameError",
     "evalue": "name 'Message' is not defined",
     "output_type": "error",
     "traceback": [
      "\u001b[0;31m---------------------------------------------------------------------------\u001b[0m",
      "\u001b[0;31mNameError\u001b[0m                                 Traceback (most recent call last)",
      "\u001b[0;32m<ipython-input-2-98d4e4c7ee38>\u001b[0m in \u001b[0;36m<module>\u001b[0;34m\u001b[0m\n\u001b[1;32m      1\u001b[0m \u001b[0;31m#variable sensitive to the lowercase and uppercase\u001b[0m\u001b[0;34m\u001b[0m\u001b[0;34m\u001b[0m\u001b[0;34m\u001b[0m\u001b[0m\n\u001b[0;32m----> 2\u001b[0;31m \u001b[0mprint\u001b[0m\u001b[0;34m(\u001b[0m\u001b[0mMessage\u001b[0m\u001b[0;34m)\u001b[0m\u001b[0;34m\u001b[0m\u001b[0;34m\u001b[0m\u001b[0m\n\u001b[0m",
      "\u001b[0;31mNameError\u001b[0m: name 'Message' is not defined"
     ]
    }
   ],
   "source": [
    "#variable sensitive to the lowercase and uppercase \n",
    "print(Message)"
   ]
  },
  {
   "cell_type": "markdown",
   "metadata": {},
   "source": [
    "#### Case Styles\n",
    "    1. camelCase\n",
    "    2. snake_case\n",
    "    "
   ]
  },
  {
   "cell_type": "code",
   "execution_count": 1,
   "metadata": {},
   "outputs": [],
   "source": [
    "#1 \n",
    "userLoginCount = \"camelCase\"\n",
    "\n",
    "#2 \n",
    "user_login_count = \"snake_case\"\n",
    "USER_LOGIN_COUNT = \"AllCaps\"\n",
    "\n",
    "\n"
   ]
  },
  {
   "cell_type": "code",
   "execution_count": 11,
   "metadata": {},
   "outputs": [
    {
     "name": "stdout",
     "output_type": "stream",
     "text": [
      "My Name Is Milad Farzalizadeh  |  My Name Is Milad Farzalizadeh \n"
     ]
    }
   ],
   "source": [
    "first_name = \"milad\"\n",
    "last_name = \"farzalizadeh\"\n",
    "\n",
    "full_name = f\"My name is {first_name} {last_name}\" \n",
    "full_name_2 = \"My name is {0} {1} \".format(first_name, last_name)\n",
    "\n",
    "print(full_name.title() , \" | \" , full_name_2.title())"
   ]
  },
  {
   "cell_type": "markdown",
   "metadata": {},
   "source": [
    "# Number \n",
    "    \n",
    "    add (+), subtract (-), multiply (*), and divide (/), power (**) , Modulo (%)"
   ]
  },
  {
   "cell_type": "code",
   "execution_count": 13,
   "metadata": {},
   "outputs": [
    {
     "name": "stdout",
     "output_type": "stream",
     "text": [
      "\n",
      "\n",
      "Result of the operation !\n",
      "add: 15, subtract: 5, multiply: 50, divide: 2.0, power: 100000\n",
      "a: 11, b: 15\n"
     ]
    }
   ],
   "source": [
    "a = 10 # a = 10.5\n",
    "b = 5 # b = 6.5\n",
    "add = a + b \n",
    "sub = a - b \n",
    "mul = a * b \n",
    "div = a / b \n",
    "pow = a ** b \n",
    "a += 1 # a = a + 1\n",
    "b *= 3 # b = b * 3\n",
    "\n",
    "print(\"\\n\") # newline characters as part of the output on terminal\n",
    "print(\"Result of the operation !\")\n",
    "print(\"add: {}, subtract: {}, multiply: {}, divide: {}, power: {}\".format(add,sub,mul,div,pow))\n",
    "print(\"a: {}, b: {}\".format(a,b))"
   ]
  },
  {
   "cell_type": "code",
   "execution_count": 12,
   "metadata": {},
   "outputs": [
    {
     "name": "stdout",
     "output_type": "stream",
     "text": [
      "157.5\n"
     ]
    }
   ],
   "source": [
    "# Notice\n",
    "a = 10.5 #float\n",
    "b = 3 # int \n",
    "c = 5 #int\n",
    "print(a * b * c) # output float number\n"
   ]
  },
  {
   "cell_type": "code",
   "execution_count": 15,
   "metadata": {},
   "outputs": [],
   "source": [
    "# Multiple Assignment  \n",
    "a, b, c = 10.5, 3, 5"
   ]
  },
  {
   "cell_type": "code",
   "execution_count": 193,
   "metadata": {},
   "outputs": [],
   "source": [
    "# Constant\n",
    "# name of the variable all capital letters\n",
    "PI = 3.14 \n",
    "GRAVITY = 9.8"
   ]
  },
  {
   "cell_type": "markdown",
   "metadata": {},
   "source": [
    "# Boolean "
   ]
  },
  {
   "cell_type": "code",
   "execution_count": 17,
   "metadata": {},
   "outputs": [
    {
     "name": "stdout",
     "output_type": "stream",
     "text": [
      "False\n",
      "True\n",
      "False\n",
      "True\n"
     ]
    }
   ],
   "source": [
    "#Notice that 'T' and 'F' are capital.\n",
    "\n",
    "t = True \n",
    "f = False\n",
    "\n",
    "print(t and f) # Logical AND; prints \"False\"\n",
    "print(t or f)  # Logical OR; prints \"True\"\n",
    "print(not t)   # Logical NOT; prints \"False\"\n",
    "print(t != f)  # Logical XOR; prints \"True\""
   ]
  },
  {
   "cell_type": "markdown",
   "metadata": {},
   "source": [
    "# List "
   ]
  },
  {
   "cell_type": "code",
   "execution_count": 13,
   "metadata": {},
   "outputs": [
    {
     "name": "stdout",
     "output_type": "stream",
     "text": [
      "First Item: ali\n",
      "Last Item: True\n",
      "Your Name: ['ali', 'moradi']\n"
     ]
    },
    {
     "data": {
      "text/plain": [
       "['ali', 'moradi', 'zanjan', 1630229131, True]"
      ]
     },
     "execution_count": 13,
     "metadata": {},
     "output_type": "execute_result"
    }
   ],
   "source": [
    "#List A list object is collection of one or more data items\n",
    "py_list = ['ali', 'moradi','zanjan', 1630229131, True]\n",
    "\n",
    "#Accessing Elements in a List - Index Positions Start at 0\n",
    "\n",
    "print(f\"First Item: {py_list[0]}\")\n",
    "print(f\"Last Item: {py_list[-1]}\")\n",
    "\n",
    "#slice\n",
    "print(f\"Your Name: {py_list[0:2]}\") \n",
    "\n",
    "# py_list [start:stop] items start through stop-1\n",
    "# py_list [start:] items start through the rest of the array\n",
    "# py_list [:stop] items from the beginning through stop-1\n",
    "# py_list [:] the whole list\n",
    "py_list\n",
    "\n"
   ]
  },
  {
   "cell_type": "code",
   "execution_count": 29,
   "metadata": {},
   "outputs": [
    {
     "name": "stdout",
     "output_type": "stream",
     "text": [
      "['reza', 'moradi', 25, 'zanjan', 1630229131, 'student']\n"
     ]
    }
   ],
   "source": [
    "# update value item \n",
    "py_list[0] = \"reza\"\n",
    "\n",
    "# Adding Elements to a List \n",
    "py_list.append(\"student\") # add the new element 'student' to the end of the list\n",
    "\n",
    "#py_list.extend([1,2,3])\n",
    "\n",
    "# Inserting new element any position in list \n",
    "py_list.insert(2,25) # age is 25 \n",
    "\n",
    "\n",
    "\n",
    "# Removing Elements from a List\n",
    "del py_list[5]\n",
    "\n",
    "#del py_list delete whole list \n",
    "\n",
    "# py_list.pop() = remove end of list \n",
    "# py_list.pop(index) \n",
    "# py_list.remove('True')\n",
    "\n",
    "print(py_list)"
   ]
  },
  {
   "cell_type": "code",
   "execution_count": 4,
   "metadata": {},
   "outputs": [
    {
     "name": "stdout",
     "output_type": "stream",
     "text": [
      "city index: 3, length of list: 6\n"
     ]
    }
   ],
   "source": [
    "city_index = py_list.index('zanjan')\n",
    "length_list = len(py_list)\n",
    "\n",
    "print(f'city index: {city_index}, length of list: {length_list}')"
   ]
  },
  {
   "cell_type": "code",
   "execution_count": 14,
   "metadata": {},
   "outputs": [
    {
     "ename": "IndexError",
     "evalue": "list index out of range",
     "output_type": "error",
     "traceback": [
      "\u001b[0;31m---------------------------------------------------------------------------\u001b[0m",
      "\u001b[0;31mIndexError\u001b[0m                                Traceback (most recent call last)",
      "\u001b[0;32m<ipython-input-14-00779815ae74>\u001b[0m in \u001b[0;36m<module>\u001b[0;34m\u001b[0m\n\u001b[0;32m----> 1\u001b[0;31m \u001b[0mpy_list\u001b[0m\u001b[0;34m[\u001b[0m\u001b[0;36m6\u001b[0m\u001b[0;34m]\u001b[0m\u001b[0;34m\u001b[0m\u001b[0;34m\u001b[0m\u001b[0m\n\u001b[0m",
      "\u001b[0;31mIndexError\u001b[0m: list index out of range"
     ]
    }
   ],
   "source": [
    "py_list[6]"
   ]
  },
  {
   "cell_type": "code",
   "execution_count": 16,
   "metadata": {},
   "outputs": [
    {
     "data": {
      "text/plain": [
       "['list', True, 1, 2, [3.2, 4.3], 5, (6, 7), {'name': 'milad'}]"
      ]
     },
     "execution_count": 16,
     "metadata": {},
     "output_type": "execute_result"
    }
   ],
   "source": [
    "li = [\"list\",True,1,2,[3.2,4.3],5,(6,7),{\"name\":\"milad\"}]\n",
    "li"
   ]
  },
  {
   "cell_type": "code",
   "execution_count": 18,
   "metadata": {},
   "outputs": [
    {
     "data": {
      "text/plain": [
       "4.3"
      ]
     },
     "execution_count": 18,
     "metadata": {},
     "output_type": "execute_result"
    }
   ],
   "source": [
    "# Nested List\n",
    "li[4][1]\n"
   ]
  },
  {
   "cell_type": "markdown",
   "metadata": {},
   "source": [
    "## اطلاعات تکمیلی   \n",
    "\n",
    "    ()append: یک عنصر را به انتهای لیست اضافه می‌کند.\n",
    "    ()extend: همه عناصر لیست را به لیست دیگری اضافه می‌کند.\n",
    "    ()insert: یک عنصر را در اندیس تعریف شده درج می‌کند.\n",
    "    ()remove: یک عنصر را از لیست حذف می‌کند.\n",
    "    ()pop: یک عنصر را در اندیس داده شده حذف می‌کند و مقدار آن را باز می‌گرداند.\n",
    "    ()clear: همه عناصر را از لیست حذف می‌کند.\n",
    "    ()index: اندیس اولین عنصر مطابق با آرگومان متد را باز می‌گرداند.\n",
    "    ()count: تعداد عناصری که مطابق با آرگومان داده شده به متد هستند را باز می‌گرداند.\n",
    "    ()sort: عناصر موجود در لیست را به ترتیب صعودی مرتب می‌کند.\n",
    "    ()reverse: ترتیب عناصر موجود در لیست را معکوس می‌کند.\n",
    "    ()copy: یک Shallow Copy از لیست را باز می‌گرداند.\n",
    "    \n",
    "    ----------------------------------------------------------\n",
    "    \n",
    "    ()all: اگر همه مقادیر موجود در لیست true باشند (و یا لیست خالی باشد)، مقدار True را باز می‌گرداند.\n",
    "    ()any: در صورتی که هر عنصری از لیست true باشد، مقدار True را باز می‌گرداند.\n",
    "    ()enumerate: یک شی شمارشی را باز می‌گرداند. شامل اندیس و مقدار همه عناصر یک لیست به صورت یک «تاپل» (tuple) است.\n",
    "    ()len: طول لیست (تعداد عناصر لیست) را باز می‌گرداند.\n",
    "    ()list: یک نوع تکرار شونده (تاپل، رشته، مجموعه یا دیکشنری) را به لیست تبدیل می‌کند.\n",
    "    ()max: بزرگترین عنصر لیست را باز می‌گرداند.\n",
    "    ()min: کوچکترین عنصر لیست را باز می‌گرداند.\n",
    "    ()sorted: یک لیست مرتب شده جدید را باز می‌گرداند (خود لیست را مرتب نمی‌کند).\n",
    "    ()sum: مجموع همه عناصر موجود در لیست را باز می‌گرداند."
   ]
  },
  {
   "cell_type": "markdown",
   "metadata": {},
   "source": [
    "## Tuple"
   ]
  },
  {
   "cell_type": "code",
   "execution_count": 19,
   "metadata": {},
   "outputs": [
    {
     "data": {
      "text/plain": [
       "('reze', 'moradi', 1630229131)"
      ]
     },
     "execution_count": 19,
     "metadata": {},
     "output_type": "execute_result"
    }
   ],
   "source": [
    "# Tuples are identical to lists in all respects\n",
    "# 1) Tuple is immutable but List is Mutable, 2) () instead of square brackets [].\n",
    "tup = ('reze','moradi',1630229131)\n",
    "tup"
   ]
  },
  {
   "cell_type": "code",
   "execution_count": 20,
   "metadata": {},
   "outputs": [
    {
     "ename": "TypeError",
     "evalue": "'tuple' object does not support item assignment",
     "output_type": "error",
     "traceback": [
      "\u001b[0;31m---------------------------------------------------------------------------\u001b[0m",
      "\u001b[0;31mTypeError\u001b[0m                                 Traceback (most recent call last)",
      "\u001b[0;32m<ipython-input-20-b3fc4b47804b>\u001b[0m in \u001b[0;36m<module>\u001b[0;34m\u001b[0m\n\u001b[0;32m----> 1\u001b[0;31m \u001b[0mtup\u001b[0m\u001b[0;34m[\u001b[0m\u001b[0;36m0\u001b[0m\u001b[0;34m]\u001b[0m \u001b[0;34m=\u001b[0m \u001b[0;34m\"milad\"\u001b[0m\u001b[0;34m\u001b[0m\u001b[0;34m\u001b[0m\u001b[0m\n\u001b[0m",
      "\u001b[0;31mTypeError\u001b[0m: 'tuple' object does not support item assignment"
     ]
    }
   ],
   "source": [
    "tup[0] = \"milad\""
   ]
  },
  {
   "cell_type": "code",
   "execution_count": 24,
   "metadata": {},
   "outputs": [
    {
     "data": {
      "text/plain": [
       "tuple"
      ]
     },
     "execution_count": 24,
     "metadata": {},
     "output_type": "execute_result"
    }
   ],
   "source": [
    "type(tup)"
   ]
  },
  {
   "cell_type": "code",
   "execution_count": 26,
   "metadata": {},
   "outputs": [
    {
     "data": {
      "text/plain": [
       "True"
      ]
     },
     "execution_count": 26,
     "metadata": {},
     "output_type": "execute_result"
    }
   ],
   "source": [
    "isinstance(tup, tuple)"
   ]
  },
  {
   "cell_type": "code",
   "execution_count": 27,
   "metadata": {},
   "outputs": [
    {
     "name": "stdout",
     "output_type": "stream",
     "text": [
      "Convert Tuple to List: ['reze', 'moradi', 1630229131], and string: ('reze', 'moradi', 1630229131)\n"
     ]
    }
   ],
   "source": [
    "# Type Conversion\n",
    "conv_list = list(tup)\n",
    "conv_str = str(tup)\n",
    "# int(5.4), float(5) tuple(li)\n",
    "print(f\"Convert Tuple to List: {conv_list}, and string: {conv_str}\")"
   ]
  },
  {
   "cell_type": "code",
   "execution_count": 17,
   "metadata": {},
   "outputs": [
    {
     "name": "stdout",
     "output_type": "stream",
     "text": [
      "<class 'tuple'>\n"
     ]
    }
   ],
   "source": [
    "t = 5,6,9\n",
    "print(type(t))"
   ]
  },
  {
   "cell_type": "markdown",
   "metadata": {},
   "source": [
    "#### Read More: https://realpython.com/python-lists-tuples/"
   ]
  },
  {
   "cell_type": "markdown",
   "metadata": {},
   "source": [
    "# Dictionary \n",
    "    d = {\n",
    "    <key> : <value>,\n",
    "    <key> : <value>,\n",
    "    }\n",
    "  \n",
    "You can define a dictionary by enclosing a comma-separated list of key-value pairs in curly braces ({}). A colon (:) separates each key from its associated value:\n",
    "\n",
    "    Notice: value can get 'str', 'int', 'bool', 'tuple', 'list', 'dic'\n",
    "\n"
   ]
  },
  {
   "cell_type": "code",
   "execution_count": 28,
   "metadata": {},
   "outputs": [],
   "source": [
    "py_dic = {\n",
    "    'first_name' : 'reza',\n",
    "    'last_name' : 'moradi',\n",
    "    'age' : 25,\n",
    "    'national_code' : 1630229131,\n",
    "    'city' : 'zanjan',\n",
    "    \n",
    "}\n",
    "# onstruct a dictionary with the built-in dict() function\n",
    "\n",
    "py_dic_2 = dict(\n",
    "        name='milad'\n",
    ")"
   ]
  },
  {
   "cell_type": "code",
   "execution_count": 29,
   "metadata": {},
   "outputs": [
    {
     "data": {
      "text/plain": [
       "{'first_name': 'reza',\n",
       " 'last_name': 'moradi',\n",
       " 'age': 25,\n",
       " 'national_code': 1630229131,\n",
       " 'city': 'zanjan'}"
      ]
     },
     "execution_count": 29,
     "metadata": {},
     "output_type": "execute_result"
    }
   ],
   "source": [
    "py_dic"
   ]
  },
  {
   "cell_type": "code",
   "execution_count": 20,
   "metadata": {},
   "outputs": [
    {
     "ename": "KeyError",
     "evalue": "0",
     "output_type": "error",
     "traceback": [
      "\u001b[0;31m---------------------------------------------------------------------------\u001b[0m",
      "\u001b[0;31mKeyError\u001b[0m                                  Traceback (most recent call last)",
      "\u001b[0;32m<ipython-input-20-3d0efe0a1574>\u001b[0m in \u001b[0;36m<module>\u001b[0;34m\u001b[0m\n\u001b[0;32m----> 1\u001b[0;31m \u001b[0mpy_dic\u001b[0m\u001b[0;34m[\u001b[0m\u001b[0;36m0\u001b[0m\u001b[0;34m]\u001b[0m\u001b[0;34m\u001b[0m\u001b[0;34m\u001b[0m\u001b[0m\n\u001b[0m",
      "\u001b[0;31mKeyError\u001b[0m: 0"
     ]
    }
   ],
   "source": [
    "py_dic[0]"
   ]
  },
  {
   "cell_type": "code",
   "execution_count": 30,
   "metadata": {},
   "outputs": [
    {
     "data": {
      "text/plain": [
       "'reza'"
      ]
     },
     "execution_count": 30,
     "metadata": {},
     "output_type": "execute_result"
    }
   ],
   "source": [
    "# get value in dic\n",
    "py_dic['first_name'] # key ---> value"
   ]
  },
  {
   "cell_type": "code",
   "execution_count": 31,
   "metadata": {},
   "outputs": [
    {
     "data": {
      "text/plain": [
       "{'first_name': 'milad',\n",
       " 'last_name': 'moradi',\n",
       " 'age': 25,\n",
       " 'national_code': 1630229131,\n",
       " 'city': 'zanjan',\n",
       " 'phone_number': 123456789}"
      ]
     },
     "execution_count": 31,
     "metadata": {},
     "output_type": "execute_result"
    }
   ],
   "source": [
    "# update value \n",
    "py_dic['first_name'] = 'milad' # update existing entry\n",
    "\n",
    "py_dic['phone_number'] = 123456789 # Add new entry\n",
    "\n",
    "py_dic\n"
   ]
  },
  {
   "cell_type": "code",
   "execution_count": 32,
   "metadata": {},
   "outputs": [
    {
     "data": {
      "text/plain": [
       "{'first_name': 'milad',\n",
       " 'last_name': 'moradi',\n",
       " 'age': 25,\n",
       " 'national_code': 1630229131,\n",
       " 'city': 'zanjan'}"
      ]
     },
     "execution_count": 32,
     "metadata": {},
     "output_type": "execute_result"
    }
   ],
   "source": [
    "#delete key of dictionary\n",
    "del py_dic['phone_number'] \n",
    "#del py_dic & py_dic.clear()\n",
    "py_dic"
   ]
  },
  {
   "cell_type": "code",
   "execution_count": 24,
   "metadata": {},
   "outputs": [
    {
     "name": "stdout",
     "output_type": "stream",
     "text": [
      "age: True, name: False\n"
     ]
    }
   ],
   "source": [
    "# in and not in operation\n",
    "age = 'age' in py_dic.keys()  # dict_keys(['first_name', 'last_name', 'age', 'national_code', 'city'])\n",
    "name = 'milad' not in py_dic.values() #dict_values(['milad', 'moradi', 25, 1630229131, 'zanjan', 123456789])\n",
    "\n",
    "print(f'age: {age}, name: {name}')"
   ]
  },
  {
   "cell_type": "code",
   "execution_count": 32,
   "metadata": {},
   "outputs": [],
   "source": [
    "#py_dic. shift  + tab\n",
    "#py_dic.  tab\n",
    "\n",
    "py_dic."
   ]
  },
  {
   "cell_type": "code",
   "execution_count": 33,
   "metadata": {},
   "outputs": [],
   "source": [
    "py_dic.update([('age',26), ('phone_number',123456789)]) "
   ]
  },
  {
   "cell_type": "code",
   "execution_count": 34,
   "metadata": {},
   "outputs": [
    {
     "data": {
      "text/plain": [
       "{'first_name': 'milad',\n",
       " 'last_name': 'moradi',\n",
       " 'age': 26,\n",
       " 'national_code': 1630229131,\n",
       " 'city': 'zanjan',\n",
       " 'phone_number': 123456789}"
      ]
     },
     "execution_count": 34,
     "metadata": {},
     "output_type": "execute_result"
    }
   ],
   "source": [
    "py_dic"
   ]
  },
  {
   "cell_type": "code",
   "execution_count": 35,
   "metadata": {},
   "outputs": [
    {
     "name": "stdout",
     "output_type": "stream",
     "text": [
      "dict_items([('first_name', 'milad'), ('last_name', 'moradi'), ('age', 26), ('national_code', 1630229131), ('city', 'zanjan'), ('phone_number', 123456789)])\n",
      "26\n"
     ]
    }
   ],
   "source": [
    "items = py_dic.items() #Returns a list of key-value pairs in a dictionary.\n",
    "get_value = py_dic.get('age') # Returns the value for a key if it exists in the dictionary.\n",
    "\n",
    "print(items)\n",
    "print(get_value)\n"
   ]
  },
  {
   "cell_type": "markdown",
   "metadata": {},
   "source": [
    "#### Read more: https://realpython.com/python-dicts/"
   ]
  },
  {
   "cell_type": "markdown",
   "metadata": {},
   "source": [
    "# sets\n",
    "\n",
    "    Set elements are unique\n",
    "   "
   ]
  },
  {
   "cell_type": "code",
   "execution_count": 27,
   "metadata": {},
   "outputs": [
    {
     "name": "stdout",
     "output_type": "stream",
     "text": [
      "{1, 2, 3, 4, 5, 6, 7, 9}\n",
      "len s1: 20, len s2: 8\n"
     ]
    }
   ],
   "source": [
    "s = [1,2,1,3,6,9,2,3,4,5,6,4,1,1,1,2,5,6,7,1]\n",
    "len_s1 = len(s)\n",
    "\n",
    "s = set(s)\n",
    "len_s2 = len(s)\n",
    "print(s)\n",
    "print(f'len s1: {len_s1}, len s2: {len_s2}')"
   ]
  },
  {
   "cell_type": "markdown",
   "metadata": {},
   "source": [
    "#### read more: https://realpython.com/python-sets/"
   ]
  },
  {
   "cell_type": "markdown",
   "metadata": {},
   "source": [
    "## Working With Lists, Dictionary\n"
   ]
  },
  {
   "cell_type": "code",
   "execution_count": 33,
   "metadata": {},
   "outputs": [
    {
     "name": "stdout",
     "output_type": "stream",
     "text": [
      "reza\n",
      "moradi\n",
      "25\n",
      "zanjan\n",
      "1630229131\n",
      "student\n"
     ]
    }
   ],
   "source": [
    "# py_list --> ['reza', 'moradi', 25, 'zanjan', 1630229131, 'student']\n",
    "for item in py_list:\n",
    "    print(item)"
   ]
  },
  {
   "cell_type": "code",
   "execution_count": 45,
   "metadata": {},
   "outputs": [
    {
     "name": "stdout",
     "output_type": "stream",
     "text": [
      "index: 1, item: ali\n",
      "index: 2, item: moradi\n",
      "index: 3, item: zanjan\n",
      "index: 4, item: 1630229131\n",
      "index: 5, item: True\n"
     ]
    }
   ],
   "source": [
    "# enumerate(py_list) --> [(0, 'reza'), (1, 'moradi'), (2, 25), (3, 'zanjan'), (4, 1630229131), (5, 'student')]\n",
    "\n",
    "a, b = (1,2) #Tuple Unpacking\n",
    "for count, item in enumerate(py_list, 1):\n",
    "    print(f'index: {count}, item: {item}')"
   ]
  },
  {
   "cell_type": "code",
   "execution_count": 46,
   "metadata": {},
   "outputs": [
    {
     "name": "stdout",
     "output_type": "stream",
     "text": [
      "Enter input : zanjan\n",
      "index of zanjan : 2\n"
     ]
    }
   ],
   "source": [
    "input_data = input('Enter input : ') # default input \" str \"\n",
    "\n",
    "for item in py_list:\n",
    "    if str(item) == input_data: # == , != , > , < , >= , <=  , if --> True or False  \n",
    "        index = py_list.index(input_data)\n",
    "        print(f\"index of {item} : {index}\")\n"
   ]
  },
  {
   "cell_type": "code",
   "execution_count": 48,
   "metadata": {},
   "outputs": [
    {
     "name": "stdout",
     "output_type": "stream",
     "text": [
      "Please Enter input :zanjan\n",
      "zanjan remove list!\n",
      "['ali', 'moradi', '1630229131', 'True']\n",
      "Please Enter input :reza\n",
      "The input reza is not to List!!\n",
      "Please Enter input :ali\n",
      "ali remove list!\n",
      "['moradi', '1630229131', 'True']\n",
      "Please Enter input :exit\n",
      "exit to program ...\n"
     ]
    }
   ],
   "source": [
    "py_list2 = [str(i) for i in py_list] \n",
    "\n",
    "while True: # while i <=10: \n",
    "    \n",
    "    input_data = input(\"Please Enter input :\")\n",
    "    if input_data == 'exit':\n",
    "        break\n",
    "        \n",
    "    elif input_data in py_list2:\n",
    "        py_list2.remove(input_data)\n",
    "        print(f'{input_data} remove list!')\n",
    "        print(py_list2)\n",
    "        \n",
    "        \n",
    "    elif input_data not in py_list2 :\n",
    "        \n",
    "        print(f\"The input {input_data} is not to List!!\")\n",
    "        \n",
    "        \n",
    "print(\"exit to program ...\")\n",
    "      "
   ]
  },
  {
   "cell_type": "code",
   "execution_count": 45,
   "metadata": {},
   "outputs": [
    {
     "name": "stdout",
     "output_type": "stream",
     "text": [
      "1\n",
      "3\n",
      "5\n",
      "7\n",
      "9\n"
     ]
    }
   ],
   "source": [
    "#the continue statement tells Python to ignore the rest of the loop and return to the beginning\n",
    "\n",
    "current_number = 0\n",
    "while current_number < 10:\n",
    "    \n",
    "    current_number += 1\n",
    "    if current_number % 2 == 0:\n",
    "        continue\n",
    "        \n",
    "    print(current_number)"
   ]
  },
  {
   "cell_type": "code",
   "execution_count": 46,
   "metadata": {},
   "outputs": [
    {
     "name": "stdout",
     "output_type": "stream",
     "text": [
      "first_name: milad\n",
      "last_name: moradi\n",
      "age: 26\n",
      "national_code: 1630229131\n",
      "city: zanjan\n",
      "phone_number: 123456789\n"
     ]
    }
   ],
   "source": [
    "#dict_items([('first_name', 'milad'), ('last_name', 'moradi'), ('age', 26), ('national_code', 1630229131),\n",
    "           # ('city', 'zanjan'), ('phone_number', 123456789)])\n",
    "    \n",
    "for key, value in py_dic.items(): \n",
    "    print(f'{key}: {value}')"
   ]
  },
  {
   "cell_type": "code",
   "execution_count": 50,
   "metadata": {},
   "outputs": [
    {
     "name": "stdout",
     "output_type": "stream",
     "text": [
      "milad\n",
      "moradi\n",
      "26\n",
      "1630229131\n",
      "zanjan\n",
      "123456789\n"
     ]
    }
   ],
   "source": [
    "for val in py_dic.values():\n",
    "    print(val)"
   ]
  },
  {
   "cell_type": "markdown",
   "metadata": {},
   "source": [
    "### List Comprehensions\n",
    "\n",
    "    A list comprehension allows you to generate\n",
    "    this same list in just one line of code"
   ]
  },
  {
   "cell_type": "code",
   "execution_count": 74,
   "metadata": {},
   "outputs": [
    {
     "name": "stdout",
     "output_type": "stream",
     "text": [
      "Time: 0.6389617919921875\n"
     ]
    }
   ],
   "source": [
    "import time \n",
    "start = time.time()\n",
    "\n",
    "squares = []\n",
    "for value in range(1,1001): #  range(start, stop, step) ---> [1,2,3,4,5,6,7,8,9,10, .... 1000]\n",
    "    if value%2 == 0:\n",
    "        squares.append(value**2)\n",
    "        \n",
    "end = time.time()\n",
    "\n",
    "print(\"Time:\", (end - start)*1000)\n",
    "        \n",
    "        "
   ]
  },
  {
   "cell_type": "code",
   "execution_count": 73,
   "metadata": {},
   "outputs": [
    {
     "name": "stdout",
     "output_type": "stream",
     "text": [
      "Time: 0.25844573974609375\n"
     ]
    }
   ],
   "source": [
    "start = time.time()\n",
    "\n",
    "squares2 = [value**2 for value in range(1, 1001) if value%2==0]\n",
    "\n",
    "end = time.time()\n",
    "\n",
    "print(\"Time:\", (end - start)*1000)"
   ]
  },
  {
   "cell_type": "markdown",
   "metadata": {},
   "source": [
    "### Dictionary Comprehensions"
   ]
  },
  {
   "cell_type": "code",
   "execution_count": 77,
   "metadata": {},
   "outputs": [
    {
     "data": {
      "text/plain": [
       "{1: 1, 3: 9, 5: 25, 7: 49, 9: 81, 11: 121}"
      ]
     },
     "execution_count": 77,
     "metadata": {},
     "output_type": "execute_result"
    }
   ],
   "source": [
    "number = [1,3,5,7,9,11]\n",
    "\n",
    "dic = { value:value**2 for value in number }\n",
    "dic"
   ]
  },
  {
   "cell_type": "markdown",
   "metadata": {},
   "source": [
    "# Functions\n",
    "    def <function_name>([<parameters>]):\n",
    "        <statement(s)>"
   ]
  },
  {
   "cell_type": "code",
   "execution_count": 54,
   "metadata": {},
   "outputs": [],
   "source": [
    "def product(item, price, num=0, rate=None):\n",
    "    \n",
    "    #multiline docstring\n",
    "    \n",
    "    \"\"\"\n",
    "    This function displays store products.\n",
    "    product(item, price, num=0, rate=None)\n",
    "    \n",
    "    \"\"\"\n",
    "\n",
    "    return f'Product name: {item} , Cost ${price:.2f}, Number {num} '"
   ]
  },
  {
   "cell_type": "code",
   "execution_count": 55,
   "metadata": {},
   "outputs": [
    {
     "name": "stdout",
     "output_type": "stream",
     "text": [
      "Product name: bag , Cost $20.00, Number 10 \n",
      "Product name: pen , Cost $5.00, Number 0 \n"
     ]
    }
   ],
   "source": [
    "print(product(item='bag', price=20, num=10)) # recommanded\n",
    "print(product('pen', 5))"
   ]
  },
  {
   "cell_type": "code",
   "execution_count": 56,
   "metadata": {},
   "outputs": [
    {
     "name": "stdout",
     "output_type": "stream",
     "text": [
      "\n",
      "    This function displays store products.\n",
      "    product(item, price, num=0, rate=None)\n",
      "    \n",
      "    \n"
     ]
    }
   ],
   "source": [
    "print(product.__doc__) #Documentation String"
   ]
  },
  {
   "cell_type": "code",
   "execution_count": 57,
   "metadata": {},
   "outputs": [
    {
     "name": "stdout",
     "output_type": "stream",
     "text": [
      "Enter Product Name: deep learning book\n",
      "Enter Product Price: 15\n",
      "Enter Product Number: 5\n"
     ]
    },
    {
     "data": {
      "text/plain": [
       "'Product name: deep learning book , Cost $15.00, Number 5 '"
      ]
     },
     "execution_count": 57,
     "metadata": {},
     "output_type": "execute_result"
    }
   ],
   "source": [
    "item = input(\"Enter Product Name: \")\n",
    "price = input(\"Enter Product Price: \")\n",
    "number = input(\"Enter Product Number: \")\n",
    "\n",
    "product(item, int(price), int(number))"
   ]
  },
  {
   "cell_type": "code",
   "execution_count": 59,
   "metadata": {},
   "outputs": [
    {
     "name": "stdout",
     "output_type": "stream",
     "text": [
      "Please Enter Sudent ID: 97464120\n",
      "Reza. Moradi, Deeplearning Course, Score: 9\n"
     ]
    }
   ],
   "source": [
    "def score(sud_id):\n",
    "\n",
    "    score = open('score.txt', 'r') # import pandas ---> pandas.read_excel()\n",
    "    scr = score.readlines() \n",
    "    #['reza moradi 97464120 deeplearning 9\\n', ] eche item ---> line text \n",
    "\n",
    "    for s in range(len(scr)):\n",
    "        scr = scr[s].split()\n",
    "        #['reza', 'moradi', '97464120', 'deeplearning', '9']\n",
    "        if sud_id == scr[2]:\n",
    "\n",
    "            return f'{scr[0].title()}. {scr[1].title()}, Deeplearning Course, Score: {scr[4]}'\n",
    "\n",
    "        else:\n",
    "            \n",
    "            return f'The student id {sud_id} not exist! '\n",
    "                       \n",
    "\n",
    "sud_id = input(\"Please Enter Sudent ID: \")\n",
    "print(score(sud_id))"
   ]
  },
  {
   "cell_type": "markdown",
   "metadata": {},
   "source": [
    "## Global and Local Scope\n"
   ]
  },
  {
   "cell_type": "code",
   "execution_count": 60,
   "metadata": {},
   "outputs": [
    {
     "name": "stdout",
     "output_type": "stream",
     "text": [
      "global:  5\n",
      "local function:  (35, 7)\n"
     ]
    },
    {
     "ename": "NameError",
     "evalue": "name 'l' is not defined",
     "output_type": "error",
     "traceback": [
      "\u001b[0;31m---------------------------------------------------------------------------\u001b[0m",
      "\u001b[0;31mNameError\u001b[0m                                 Traceback (most recent call last)",
      "\u001b[0;32m<ipython-input-60-b8dab2414abb>\u001b[0m in \u001b[0;36m<module>\u001b[0;34m\u001b[0m\n\u001b[1;32m     10\u001b[0m \u001b[0mprint\u001b[0m\u001b[0;34m(\u001b[0m\u001b[0;34m\"global: \"\u001b[0m\u001b[0;34m,\u001b[0m \u001b[0mg\u001b[0m\u001b[0;34m)\u001b[0m\u001b[0;34m\u001b[0m\u001b[0;34m\u001b[0m\u001b[0m\n\u001b[1;32m     11\u001b[0m \u001b[0mprint\u001b[0m\u001b[0;34m(\u001b[0m\u001b[0;34m\"local function: \"\u001b[0m\u001b[0;34m,\u001b[0m \u001b[0mfunc\u001b[0m\u001b[0;34m(\u001b[0m\u001b[0;34m)\u001b[0m\u001b[0;34m)\u001b[0m\u001b[0;34m\u001b[0m\u001b[0;34m\u001b[0m\u001b[0m\n\u001b[0;32m---> 12\u001b[0;31m \u001b[0mprint\u001b[0m\u001b[0;34m(\u001b[0m\u001b[0;34m\"local var : \"\u001b[0m\u001b[0;34m,\u001b[0m \u001b[0ml\u001b[0m\u001b[0;34m)\u001b[0m\u001b[0;34m\u001b[0m\u001b[0;34m\u001b[0m\u001b[0m\n\u001b[0m",
      "\u001b[0;31mNameError\u001b[0m: name 'l' is not defined"
     ]
    }
   ],
   "source": [
    "g = 5\n",
    "\n",
    "def func():\n",
    "    \n",
    "    l = 7\n",
    "    s = g * l \n",
    "    \n",
    "    return s , l\n",
    "    \n",
    "print(\"global: \", g)\n",
    "print(\"local function: \", func())\n",
    "print(\"local var : \", l)"
   ]
  },
  {
   "cell_type": "code",
   "execution_count": 63,
   "metadata": {},
   "outputs": [
    {
     "name": "stdout",
     "output_type": "stream",
     "text": [
      "7\n"
     ]
    }
   ],
   "source": [
    "def func():\n",
    "    \n",
    "    global loc_1 \n",
    "    loc_1 = 7\n",
    "    loc_2 = 10\n",
    "    return loc_1 , loc_2\n",
    "\n",
    "func()\n",
    "print(loc_1)\n"
   ]
  },
  {
   "cell_type": "markdown",
   "metadata": {},
   "source": [
    "##  Keyword arguments  *args and **kwargs \n",
    "\n",
    "    *args ---> *args allows you to do is take in more arguments list of arguments\n",
    "    **kwargs  ---> dictionary - whose keys become separate keyword"
   ]
  },
  {
   "cell_type": "code",
   "execution_count": 65,
   "metadata": {},
   "outputs": [
    {
     "name": "stdout",
     "output_type": "stream",
     "text": [
      "The name of prodeuct pen, price: 15.00$, color: \n",
      "The name of prodeuct bag, price: 30.00$, color: blue, red, black, \n"
     ]
    }
   ],
   "source": [
    "def product(item, price, *args): \n",
    "    \n",
    "    # args is a tuple with arguments\n",
    "    color = \"\"\n",
    "    for col in args:\n",
    "        color += col + \", \" \n",
    "    return f'The name of prodeuct {item}, price: {price:.2f}$, color: {color}'\n",
    "\n",
    "print(product('pen',15))\n",
    "print(product('bag',30, 'blue', 'red','black'))"
   ]
  },
  {
   "cell_type": "code",
   "execution_count": 138,
   "metadata": {},
   "outputs": [
    {
     "name": "stdout",
     "output_type": "stream",
     "text": [
      "RealPythonIsGreat!\n"
     ]
    }
   ],
   "source": [
    "def concatenate(**kwargs):\n",
    "    result = \"\"\n",
    "    # Iterating over the Python kwargs dictionary\n",
    "    for arg in kwargs.values():\n",
    "        result += arg\n",
    "    return result\n",
    "\n",
    "print(concatenate(a=\"Real\", b=\"Python\", c=\"Is\", d=\"Great\", e=\"!\"))"
   ]
  },
  {
   "cell_type": "markdown",
   "metadata": {},
   "source": [
    "#### https://realpython.com/python-kwargs-and-args/"
   ]
  },
  {
   "cell_type": "code",
   "execution_count": 146,
   "metadata": {},
   "outputs": [],
   "source": [
    "# Notic limit lines of code to 79 characters\n",
    "def function(\n",
    "    parameter_0, parameter_1, parameter_2,\n",
    "    parameter_3, parameter_4, parameter_5\n",
    "):\n",
    "    \n",
    "    pass"
   ]
  },
  {
   "cell_type": "markdown",
   "metadata": {},
   "source": [
    "#### PEP 8   https://www.python.org/dev/peps/pep-0008/"
   ]
  },
  {
   "cell_type": "markdown",
   "metadata": {},
   "source": [
    "### Anonymous functions  ---> lambda\n",
    "\n",
    "     lambda arguments : expression\n",
    "     \n",
    "     lambda [arg1 [,arg2,.....argn]]:expression"
   ]
  },
  {
   "cell_type": "code",
   "execution_count": 61,
   "metadata": {},
   "outputs": [
    {
     "name": "stdout",
     "output_type": "stream",
     "text": [
      "30\n"
     ]
    }
   ],
   "source": [
    "lbd = lambda a, b : a * b\n",
    "\n",
    "print(lbd(5, 6))"
   ]
  },
  {
   "cell_type": "code",
   "execution_count": 62,
   "metadata": {},
   "outputs": [
    {
     "name": "stdout",
     "output_type": "stream",
     "text": [
      "[2, 4, 6, 8]\n",
      "[7, 9, 11, 13]\n"
     ]
    }
   ],
   "source": [
    "list1 = [2, 4, 6, 8]\n",
    "print(list1)\n",
    "\n",
    "new_list = list(map(lambda x: x + 5, list1))\n",
    "\n",
    "print(new_list)"
   ]
  },
  {
   "cell_type": "code",
   "execution_count": 70,
   "metadata": {},
   "outputs": [
    {
     "data": {
      "text/plain": [
       "[(7, 1), (3, 2), (3, 4), (5, 9)]"
      ]
     },
     "execution_count": 70,
     "metadata": {},
     "output_type": "execute_result"
    }
   ],
   "source": [
    "a = [(3, 4), (7, 1), (5, 9), (3,2)]\n",
    "a.sort(key= lambda x:x[1])\n",
    "a"
   ]
  },
  {
   "cell_type": "markdown",
   "metadata": {},
   "source": [
    "# Object Oriented - Class"
   ]
  },
  {
   "cell_type": "markdown",
   "metadata": {},
   "source": [
    "<img src=\"Screenshot from 2020-03-22 23-55-14.png\" width=500>"
   ]
  },
  {
   "cell_type": "code",
   "execution_count": 63,
   "metadata": {},
   "outputs": [],
   "source": [
    "# 1\n",
    "ali = {'type':'person','name':'Ali','age':17, 'height':170, 'weight':55}\n",
    "javad = {'type':'person','name':'Javad','age':27, 'height':180, 'weight':70}\n"
   ]
  },
  {
   "cell_type": "code",
   "execution_count": 64,
   "metadata": {},
   "outputs": [],
   "source": [
    "# 2\n",
    "\n",
    "class Human:\n",
    "    \"\"\"\n",
    "    This class defines attribute Humans\n",
    "    \n",
    "    \"\"\"\n",
    "    \n",
    "    def __init__(self, name, age, height, weight): # __init__() ---> Constructor\n",
    "        self.name = name\n",
    "        self.age = age \n",
    "        self.height = height\n",
    "        self.weight = weight \n",
    "    \n",
    "        \n",
    "ali = Human(name = 'Ali', age=17, height=170, weight=65)\n",
    "javad = Human(name ='Javad', age=27, height= 163, weight=79)\n",
    "\n"
   ]
  },
  {
   "cell_type": "code",
   "execution_count": 71,
   "metadata": {},
   "outputs": [],
   "source": [
    "class Human:\n",
    "    \n",
    "    count = 0\n",
    "    def __init__(self, name, age, height, weight):\n",
    "        self.name = name\n",
    "        self.age = age\n",
    "        self.height = height\n",
    "        self.weight = weight\n",
    "        Human.count += 1\n",
    "        \n",
    "    def get_age(self):\n",
    "        return \"The \"+ self.name + \"'s age is \" + str(self.age)\n",
    "\n",
    "    \n",
    "        \n",
    "ali = Human(name='Ali', age=17, height=170, weight=65)\n",
    "javad = Human(name ='Javad', age=27, height= 163, weight=79)\n"
   ]
  },
  {
   "cell_type": "code",
   "execution_count": 73,
   "metadata": {},
   "outputs": [
    {
     "data": {
      "text/plain": [
       "\"The Ali's age is 17\""
      ]
     },
     "execution_count": 73,
     "metadata": {},
     "output_type": "execute_result"
    }
   ],
   "source": [
    "ali.get_age()"
   ]
  },
  {
   "cell_type": "code",
   "execution_count": 74,
   "metadata": {},
   "outputs": [
    {
     "name": "stdout",
     "output_type": "stream",
     "text": [
      "Human Count:  2\n"
     ]
    }
   ],
   "source": [
    "print(\"Human Count: \",Human.count)"
   ]
  },
  {
   "cell_type": "code",
   "execution_count": 71,
   "metadata": {},
   "outputs": [],
   "source": [
    "class Student(Human):\n",
    "    \n",
    "    count = 0\n",
    "    def __init__(self, name, age, height, weight, stdID, uni, field):\n",
    "        \n",
    "        super().__init__(name, age, height, weight)\n",
    "        self.stdID = stdID\n",
    "        self.uni = uni \n",
    "        self.field = field \n",
    "        Student.count += 1 \n",
    "        \n",
    "        \n",
    "    def get_info_student(self):\n",
    "        \n",
    "        return f'The Name is {self.name}, SudentID: {str(self.stdID)} , university: {self.uni}, Field: {self.field}'\n",
    "    \n",
    "        \n",
    "    "
   ]
  },
  {
   "cell_type": "code",
   "execution_count": 75,
   "metadata": {},
   "outputs": [],
   "source": [
    "milad = Student('milad',25,170,70,stdID=97464120,uni='zanjan',field='Software enginner')\n",
    "\n"
   ]
  },
  {
   "cell_type": "code",
   "execution_count": 73,
   "metadata": {},
   "outputs": [
    {
     "data": {
      "text/plain": [
       "'The Name is milad, SudentID: 97464120 , university: zanjan, Field: Software enginner'"
      ]
     },
     "execution_count": 73,
     "metadata": {},
     "output_type": "execute_result"
    }
   ],
   "source": [
    "milad.get_info_student()"
   ]
  },
  {
   "cell_type": "code",
   "execution_count": 76,
   "metadata": {},
   "outputs": [
    {
     "name": "stdout",
     "output_type": "stream",
     "text": [
      "Student Count:  6\n"
     ]
    }
   ],
   "source": [
    "print(\"Student Count: \", Student.count)"
   ]
  },
  {
   "cell_type": "code",
   "execution_count": null,
   "metadata": {},
   "outputs": [],
   "source": [
    "class className(Human, Student):\n",
    "    def __init__(self):\n",
    "        pass\n"
   ]
  },
  {
   "cell_type": "markdown",
   "metadata": {},
   "source": [
    "## File and Try Except \n"
   ]
  },
  {
   "cell_type": "code",
   "execution_count": 77,
   "metadata": {},
   "outputs": [],
   "source": [
    "with open('score.txt','r') as f1:\n",
    "    f1.readlines()\n",
    "#automatically closed and free up any system resources used"
   ]
  },
  {
   "cell_type": "code",
   "execution_count": 78,
   "metadata": {},
   "outputs": [
    {
     "data": {
      "text/plain": [
       "True"
      ]
     },
     "execution_count": 78,
     "metadata": {},
     "output_type": "execute_result"
    }
   ],
   "source": [
    "f1.closed"
   ]
  },
  {
   "cell_type": "code",
   "execution_count": 81,
   "metadata": {},
   "outputs": [],
   "source": [
    "f2 = open('score.txt', 'r')\n",
    "f2.readlines()\n",
    "f2.close()\n"
   ]
  },
  {
   "cell_type": "code",
   "execution_count": 82,
   "metadata": {},
   "outputs": [
    {
     "data": {
      "text/plain": [
       "True"
      ]
     },
     "execution_count": 82,
     "metadata": {},
     "output_type": "execute_result"
    }
   ],
   "source": [
    "f2.closed"
   ]
  },
  {
   "cell_type": "code",
   "execution_count": 57,
   "metadata": {},
   "outputs": [
    {
     "ename": "ZeroDivisionError",
     "evalue": "division by zero",
     "output_type": "error",
     "traceback": [
      "\u001b[0;31m---------------------------------------------------------------------------\u001b[0m",
      "\u001b[0;31mZeroDivisionError\u001b[0m                         Traceback (most recent call last)",
      "\u001b[0;32m<ipython-input-57-fad870a50e27>\u001b[0m in \u001b[0;36m<module>\u001b[0;34m\u001b[0m\n\u001b[0;32m----> 1\u001b[0;31m \u001b[0mprint\u001b[0m\u001b[0;34m(\u001b[0m\u001b[0;36m5\u001b[0m\u001b[0;34m/\u001b[0m\u001b[0;36m0\u001b[0m\u001b[0;34m)\u001b[0m\u001b[0;34m\u001b[0m\u001b[0;34m\u001b[0m\u001b[0m\n\u001b[0m",
      "\u001b[0;31mZeroDivisionError\u001b[0m: division by zero"
     ]
    }
   ],
   "source": [
    "print(5/0)"
   ]
  },
  {
   "cell_type": "code",
   "execution_count": 83,
   "metadata": {},
   "outputs": [
    {
     "name": "stdout",
     "output_type": "stream",
     "text": [
      "You can't divide by zero!\n"
     ]
    }
   ],
   "source": [
    "try:\n",
    "    print(5/0)\n",
    "    \n",
    "except ZeroDivisionError:\n",
    "    print(\"You can't divide by zero!\")"
   ]
  },
  {
   "cell_type": "code",
   "execution_count": 84,
   "metadata": {},
   "outputs": [
    {
     "ename": "FileNotFoundError",
     "evalue": "[Errno 2] No such file or directory: 'test.txt'",
     "output_type": "error",
     "traceback": [
      "\u001b[0;31m---------------------------------------------------------------------------\u001b[0m",
      "\u001b[0;31mFileNotFoundError\u001b[0m                         Traceback (most recent call last)",
      "\u001b[0;32m<ipython-input-84-9032d34352d7>\u001b[0m in \u001b[0;36m<module>\u001b[0;34m\u001b[0m\n\u001b[1;32m      1\u001b[0m \u001b[0mfilename\u001b[0m \u001b[0;34m=\u001b[0m \u001b[0;34m'test.txt'\u001b[0m\u001b[0;34m\u001b[0m\u001b[0;34m\u001b[0m\u001b[0m\n\u001b[0;32m----> 2\u001b[0;31m \u001b[0;32mwith\u001b[0m \u001b[0mopen\u001b[0m\u001b[0;34m(\u001b[0m\u001b[0mfilename\u001b[0m\u001b[0;34m,\u001b[0m \u001b[0mencoding\u001b[0m\u001b[0;34m=\u001b[0m\u001b[0;34m'utf-8'\u001b[0m\u001b[0;34m)\u001b[0m \u001b[0;32mas\u001b[0m \u001b[0mf\u001b[0m\u001b[0;34m:\u001b[0m\u001b[0;34m\u001b[0m\u001b[0;34m\u001b[0m\u001b[0m\n\u001b[0m\u001b[1;32m      3\u001b[0m     \u001b[0mcontents\u001b[0m \u001b[0;34m=\u001b[0m \u001b[0mf\u001b[0m\u001b[0;34m.\u001b[0m\u001b[0mread\u001b[0m\u001b[0;34m(\u001b[0m\u001b[0;34m)\u001b[0m\u001b[0;34m\u001b[0m\u001b[0;34m\u001b[0m\u001b[0m\n",
      "\u001b[0;31mFileNotFoundError\u001b[0m: [Errno 2] No such file or directory: 'test.txt'"
     ]
    }
   ],
   "source": [
    "filename = 'test.txt'\n",
    "with open(filename, encoding='utf-8') as f:\n",
    "    contents = f.read()"
   ]
  },
  {
   "cell_type": "code",
   "execution_count": 85,
   "metadata": {},
   "outputs": [
    {
     "name": "stdout",
     "output_type": "stream",
     "text": [
      "Sorry, the file alice.txt does not exist.\n"
     ]
    }
   ],
   "source": [
    "filename = 'alice.txt'\n",
    "try:\n",
    "    with open(filename, encoding='utf-8') as f:\n",
    "        contents = f.read()\n",
    "        \n",
    "except FileNotFoundError:\n",
    "    print(f\"Sorry, the file {filename} does not exist.\")"
   ]
  },
  {
   "cell_type": "code",
   "execution_count": 87,
   "metadata": {},
   "outputs": [
    {
     "name": "stdout",
     "output_type": "stream",
     "text": [
      "Enter the score: 19\n",
      "The Score is 19\n"
     ]
    }
   ],
   "source": [
    "# assert <condition>,<error message>\n",
    "\n",
    "def score_check(s):\n",
    "    \n",
    "    assert s >=0 and s<=20,f'score entered {s}: The score must be between 0 and 20'\n",
    "    return f'The Score is {s}'\n",
    "\n",
    "\n",
    "s = int(input(\"Enter the score: \"))\n",
    "print(score_check(s))"
   ]
  },
  {
   "cell_type": "code",
   "execution_count": null,
   "metadata": {},
   "outputs": [],
   "source": []
  }
 ],
 "metadata": {
  "kernelspec": {
   "display_name": "Python 3",
   "language": "python",
   "name": "python3"
  },
  "language_info": {
   "codemirror_mode": {
    "name": "ipython",
    "version": 3
   },
   "file_extension": ".py",
   "mimetype": "text/x-python",
   "name": "python",
   "nbconvert_exporter": "python",
   "pygments_lexer": "ipython3",
   "version": "3.6.9"
  }
 },
 "nbformat": 4,
 "nbformat_minor": 2
}
